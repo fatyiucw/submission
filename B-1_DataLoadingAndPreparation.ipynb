{
  "cells": [
    {
      "attachments": {},
      "cell_type": "markdown",
      "metadata": {
        "colab": {
          "base_uri": "https://localhost:8080/"
        },
        "id": "jtL4Cs3Km5hr",
        "outputId": "daf7d4a8-b080-4b8b-96e2-7f5034d3a32e"
      },
      "source": [
        "## **Data Loading and Preparation**"
      ]
    },
    {
      "cell_type": "code",
      "execution_count": 61,
      "metadata": {},
      "outputs": [],
      "source": [
        "import pandas as pd\n",
        "import os\n",
        "import numpy as np\n",
        "import matplotlib.pyplot as plt\n",
        "\n",
        "import warnings\n",
        "warnings.filterwarnings('ignore')"
      ]
    },
    {
      "attachments": {},
      "cell_type": "markdown",
      "metadata": {},
      "source": [
        "## **Data Loading**"
      ]
    },
    {
      "cell_type": "code",
      "execution_count": 2,
      "metadata": {
        "id": "SkjAFUEenDjU"
      },
      "outputs": [],
      "source": [
        "#data collection path\n",
        "path = './Data/'\n",
        "normal_data_path = './CIC-IDS-2018-Dataset-normal/'\n",
        "abnormal_data_path = './CIC-IDS-2018-Dataset-abnormal/'"
      ]
    },
    {
      "cell_type": "code",
      "execution_count": 3,
      "metadata": {
        "id": "_6hpgdAsnNBq"
      },
      "outputs": [],
      "source": [
        "if not os.path.exists(path):\n",
        "    try:\n",
        "        os.makedirs(path,mode=0o777)\n",
        "    except:\n",
        "        print(\"folder exist\")\n",
        "if not os.path.exists(normal_data_path):\n",
        "    try:\n",
        "        os.makedirs(normal_data_path,mode=0o777)\n",
        "    except:\n",
        "        print(\"folder exist\")\n",
        "\n",
        "if not os.path.exists(abnormal_data_path):\n",
        "    try:\n",
        "        os.makedirs(abnormal_data_path,mode=0o777)\n",
        "    except:\n",
        "        print(\"folder exist\")"
      ]
    },
    {
      "cell_type": "code",
      "execution_count": 4,
      "metadata": {
        "id": "FREai6imnOwx"
      },
      "outputs": [],
      "source": [
        "def extract_data(path,file,export_path,idx,mode):\n",
        "    set = pd.read_csv(path+file)\n",
        "    if(mode=='normal'):\n",
        "        set[set['Label']=='Benign'].to_csv(export_path+'IDS2018_Without_Abnormal'+\"-\"+str(idx)+'.csv')\n",
        "    elif(mode==\"abnormal\"):\n",
        "        set[set['Label']!='Benign'].to_csv(export_path+'IDS2018_Abnormal'+'-'+str(idx)+'.csv')\n",
        "    else:\n",
        "        print(\"mode = normal or abnormal\")"
      ]
    },
    {
      "cell_type": "code",
      "execution_count": 5,
      "metadata": {
        "colab": {
          "base_uri": "https://localhost:8080/"
        },
        "id": "aXkxFS1tnS3A",
        "outputId": "81262922-0fcd-47e6-ca05-9af6aa754d8d"
      },
      "outputs": [
        {
          "data": {
            "text/plain": [
              "['.DS_Store',\n",
              " '02-14-2018.csv',\n",
              " '02-15-2018.csv',\n",
              " '02-21-2018.csv',\n",
              " '03-01-2018.csv',\n",
              " '03-02-2018.csv',\n",
              " '02-23-2018.csv',\n",
              " '02-22-2018.csv',\n",
              " '02-16-2018.csv',\n",
              " '02-28-2018.csv']"
            ]
          },
          "execution_count": 5,
          "metadata": {},
          "output_type": "execute_result"
        }
      ],
      "source": [
        "filelist = os.listdir(path)\n",
        "filelist"
      ]
    },
    {
      "cell_type": "code",
      "execution_count": 6,
      "metadata": {
        "id": "h2yV2lvgnXCZ"
      },
      "outputs": [],
      "source": [
        "import os\n",
        "filelist = os.listdir(path)\n",
        "normal=[1,2,3, 4, 5, 6,7, 8,9 ] #file size of one file is too large，out of memory if loaded。\n",
        "abnormal=[1,2,3, 4, 5, 6,7, 8,9 ]"
      ]
    },
    {
      "cell_type": "code",
      "execution_count": 7,
      "metadata": {
        "colab": {
          "base_uri": "https://localhost:8080/"
        },
        "id": "sFoZME2onjBw",
        "outputId": "1abaa042-c3e2-4fcd-9c91-5530b2104520"
      },
      "outputs": [
        {
          "name": "stdout",
          "output_type": "stream",
          "text": [
            "Processing02-14-2018.csv...\n",
            "Processing02-15-2018.csv...\n",
            "Processing02-21-2018.csv...\n",
            "Processing03-01-2018.csv...\n",
            "Processing03-02-2018.csv...\n",
            "Processing02-23-2018.csv...\n",
            "Processing02-22-2018.csv...\n",
            "Processing02-16-2018.csv...\n",
            "Processing02-28-2018.csv...\n"
          ]
        }
      ],
      "source": [
        "for i in normal:\n",
        "    print(\"Processing\"+filelist[i]+\"...\")\n",
        "    if(filelist[i]!='Thuesday-20-02-2018_TrafficForML_CICFlowMeter.csv'):\n",
        "        extract_data(path,filelist[i],normal_data_path,i,'normal')"
      ]
    },
    {
      "cell_type": "code",
      "execution_count": 8,
      "metadata": {
        "colab": {
          "base_uri": "https://localhost:8080/"
        },
        "id": "SzTdsdeonkoN",
        "outputId": "4fbc9fec-3942-4c70-89ff-b0c86e7e29c1"
      },
      "outputs": [
        {
          "name": "stdout",
          "output_type": "stream",
          "text": [
            "Processing02-14-2018.csv...\n",
            "Processing02-15-2018.csv...\n",
            "Processing02-21-2018.csv...\n",
            "Processing03-01-2018.csv...\n",
            "Processing03-02-2018.csv...\n",
            "Processing02-23-2018.csv...\n",
            "Processing02-22-2018.csv...\n",
            "Processing02-16-2018.csv...\n",
            "Processing02-28-2018.csv...\n"
          ]
        }
      ],
      "source": [
        "for i in abnormal:\n",
        "    print(\"Processing\"+filelist[i]+\"...\")\n",
        "    extract_data(path,filelist[i],abnormal_data_path,i,'abnormal')"
      ]
    },
    {
      "cell_type": "code",
      "execution_count": 9,
      "metadata": {
        "id": "2Pazpj1ktWuo"
      },
      "outputs": [],
      "source": [
        "csv_output = 'data_files/'"
      ]
    },
    {
      "cell_type": "code",
      "execution_count": 10,
      "metadata": {
        "id": "055Y-0i6qgdb"
      },
      "outputs": [],
      "source": [
        "\n",
        "all_normal_file = os.listdir(normal_data_path)\n",
        "normal = pd.concat([pd.read_csv(normal_data_path+f) for f in all_normal_file])\n",
        "normal.to_csv(csv_output + \"combined_normal.csv\", index=False)"
      ]
    },
    {
      "cell_type": "code",
      "execution_count": 11,
      "metadata": {
        "id": "7OZwtdMdwTB5"
      },
      "outputs": [],
      "source": [
        "normal_df = pd.read_csv(csv_output + \"combined_normal.csv\")"
      ]
    },
    {
      "cell_type": "code",
      "execution_count": 12,
      "metadata": {
        "colab": {
          "base_uri": "https://localhost:8080/",
          "height": 170
        },
        "id": "M7EyTK6zwZ0K",
        "outputId": "b724ede1-df5d-4795-d111-137ca724d3f1"
      },
      "outputs": [
        {
          "name": "stdout",
          "output_type": "stream",
          "text": [
            "Normal Data Shape: (6112151, 81)\n"
          ]
        }
      ],
      "source": [
        "print(f'Normal Data Shape: {normal.shape}')"
      ]
    },
    {
      "cell_type": "code",
      "execution_count": 13,
      "metadata": {
        "colab": {
          "base_uri": "https://localhost:8080/",
          "height": 206
        },
        "id": "DLFaucaDwf6G",
        "outputId": "9e3b3ecc-5d53-4abc-fa38-76d527211ad0"
      },
      "outputs": [],
      "source": [
        "all_abnormal_file = os.listdir(abnormal_data_path)\n",
        "abnormal = pd.concat([pd.read_csv(abnormal_data_path+f) for f in all_abnormal_file])\n",
        "abnormal.to_csv(csv_output + \"combined_abnormal.csv\", index=False)"
      ]
    },
    {
      "cell_type": "code",
      "execution_count": 14,
      "metadata": {
        "id": "CoknhCims4S3"
      },
      "outputs": [],
      "source": [
        "abnormal_df = pd.read_csv(csv_output + \"combined_abnormal.csv\")"
      ]
    },
    {
      "cell_type": "code",
      "execution_count": 15,
      "metadata": {
        "id": "gjBQn2OQs94F"
      },
      "outputs": [
        {
          "name": "stdout",
          "output_type": "stream",
          "text": [
            "Abnormal Data Shape: (2172103, 81)\n"
          ]
        }
      ],
      "source": [
        "\n",
        "print(f'Abnormal Data Shape: {abnormal_df.shape}')"
      ]
    },
    {
      "attachments": {},
      "cell_type": "markdown",
      "metadata": {},
      "source": [
        "### **Explore Normal Data**"
      ]
    },
    {
      "cell_type": "code",
      "execution_count": 17,
      "metadata": {},
      "outputs": [
        {
          "data": {
            "text/plain": [
              "Benign    6112151\n",
              "Name: Label, dtype: int64"
            ]
          },
          "execution_count": 17,
          "metadata": {},
          "output_type": "execute_result"
        }
      ],
      "source": [
        "normal_df.Label.value_counts()"
      ]
    },
    {
      "cell_type": "code",
      "execution_count": 16,
      "metadata": {
        "id": "vQxRC0uRtE2w"
      },
      "outputs": [
        {
          "data": {
            "text/plain": [
              "Index(['Unnamed: 0', 'Dst Port', 'Protocol', 'Timestamp', 'Flow Duration',\n",
              "       'Tot Fwd Pkts', 'Tot Bwd Pkts', 'TotLen Fwd Pkts', 'TotLen Bwd Pkts',\n",
              "       'Fwd Pkt Len Max', 'Fwd Pkt Len Min', 'Fwd Pkt Len Mean',\n",
              "       'Fwd Pkt Len Std', 'Bwd Pkt Len Max', 'Bwd Pkt Len Min',\n",
              "       'Bwd Pkt Len Mean', 'Bwd Pkt Len Std', 'Flow Byts/s', 'Flow Pkts/s',\n",
              "       'Flow IAT Mean', 'Flow IAT Std', 'Flow IAT Max', 'Flow IAT Min',\n",
              "       'Fwd IAT Tot', 'Fwd IAT Mean', 'Fwd IAT Std', 'Fwd IAT Max',\n",
              "       'Fwd IAT Min', 'Bwd IAT Tot', 'Bwd IAT Mean', 'Bwd IAT Std',\n",
              "       'Bwd IAT Max', 'Bwd IAT Min', 'Fwd PSH Flags', 'Bwd PSH Flags',\n",
              "       'Fwd URG Flags', 'Bwd URG Flags', 'Fwd Header Len', 'Bwd Header Len',\n",
              "       'Fwd Pkts/s', 'Bwd Pkts/s', 'Pkt Len Min', 'Pkt Len Max',\n",
              "       'Pkt Len Mean', 'Pkt Len Std', 'Pkt Len Var', 'FIN Flag Cnt',\n",
              "       'SYN Flag Cnt', 'RST Flag Cnt', 'PSH Flag Cnt', 'ACK Flag Cnt',\n",
              "       'URG Flag Cnt', 'CWE Flag Count', 'ECE Flag Cnt', 'Down/Up Ratio',\n",
              "       'Pkt Size Avg', 'Fwd Seg Size Avg', 'Bwd Seg Size Avg',\n",
              "       'Fwd Byts/b Avg', 'Fwd Pkts/b Avg', 'Fwd Blk Rate Avg',\n",
              "       'Bwd Byts/b Avg', 'Bwd Pkts/b Avg', 'Bwd Blk Rate Avg',\n",
              "       'Subflow Fwd Pkts', 'Subflow Fwd Byts', 'Subflow Bwd Pkts',\n",
              "       'Subflow Bwd Byts', 'Init Fwd Win Byts', 'Init Bwd Win Byts',\n",
              "       'Fwd Act Data Pkts', 'Fwd Seg Size Min', 'Active Mean', 'Active Std',\n",
              "       'Active Max', 'Active Min', 'Idle Mean', 'Idle Std', 'Idle Max',\n",
              "       'Idle Min', 'Label'],\n",
              "      dtype='object')"
            ]
          },
          "execution_count": 16,
          "metadata": {},
          "output_type": "execute_result"
        }
      ],
      "source": [
        "\n",
        "normal_df.columns"
      ]
    },
    {
      "cell_type": "code",
      "execution_count": 18,
      "metadata": {},
      "outputs": [
        {
          "name": "stdout",
          "output_type": "stream",
          "text": [
            "<class 'pandas.core.frame.DataFrame'>\n",
            "RangeIndex: 6112151 entries, 0 to 6112150\n",
            "Data columns (total 81 columns):\n",
            " #   Column             Dtype  \n",
            "---  ------             -----  \n",
            " 0   Unnamed: 0         int64  \n",
            " 1   Dst Port           int64  \n",
            " 2   Protocol           int64  \n",
            " 3   Timestamp          object \n",
            " 4   Flow Duration      int64  \n",
            " 5   Tot Fwd Pkts       int64  \n",
            " 6   Tot Bwd Pkts       int64  \n",
            " 7   TotLen Fwd Pkts    int64  \n",
            " 8   TotLen Bwd Pkts    float64\n",
            " 9   Fwd Pkt Len Max    int64  \n",
            " 10  Fwd Pkt Len Min    int64  \n",
            " 11  Fwd Pkt Len Mean   float64\n",
            " 12  Fwd Pkt Len Std    float64\n",
            " 13  Bwd Pkt Len Max    int64  \n",
            " 14  Bwd Pkt Len Min    int64  \n",
            " 15  Bwd Pkt Len Mean   float64\n",
            " 16  Bwd Pkt Len Std    float64\n",
            " 17  Flow Byts/s        float64\n",
            " 18  Flow Pkts/s        float64\n",
            " 19  Flow IAT Mean      float64\n",
            " 20  Flow IAT Std       float64\n",
            " 21  Flow IAT Max       float64\n",
            " 22  Flow IAT Min       float64\n",
            " 23  Fwd IAT Tot        float64\n",
            " 24  Fwd IAT Mean       float64\n",
            " 25  Fwd IAT Std        float64\n",
            " 26  Fwd IAT Max        float64\n",
            " 27  Fwd IAT Min        float64\n",
            " 28  Bwd IAT Tot        float64\n",
            " 29  Bwd IAT Mean       float64\n",
            " 30  Bwd IAT Std        float64\n",
            " 31  Bwd IAT Max        float64\n",
            " 32  Bwd IAT Min        float64\n",
            " 33  Fwd PSH Flags      int64  \n",
            " 34  Bwd PSH Flags      int64  \n",
            " 35  Fwd URG Flags      int64  \n",
            " 36  Bwd URG Flags      int64  \n",
            " 37  Fwd Header Len     int64  \n",
            " 38  Bwd Header Len     int64  \n",
            " 39  Fwd Pkts/s         float64\n",
            " 40  Bwd Pkts/s         float64\n",
            " 41  Pkt Len Min        int64  \n",
            " 42  Pkt Len Max        int64  \n",
            " 43  Pkt Len Mean       float64\n",
            " 44  Pkt Len Std        float64\n",
            " 45  Pkt Len Var        float64\n",
            " 46  FIN Flag Cnt       int64  \n",
            " 47  SYN Flag Cnt       int64  \n",
            " 48  RST Flag Cnt       int64  \n",
            " 49  PSH Flag Cnt       int64  \n",
            " 50  ACK Flag Cnt       int64  \n",
            " 51  URG Flag Cnt       int64  \n",
            " 52  CWE Flag Count     int64  \n",
            " 53  ECE Flag Cnt       int64  \n",
            " 54  Down/Up Ratio      int64  \n",
            " 55  Pkt Size Avg       float64\n",
            " 56  Fwd Seg Size Avg   float64\n",
            " 57  Bwd Seg Size Avg   float64\n",
            " 58  Fwd Byts/b Avg     int64  \n",
            " 59  Fwd Pkts/b Avg     int64  \n",
            " 60  Fwd Blk Rate Avg   int64  \n",
            " 61  Bwd Byts/b Avg     int64  \n",
            " 62  Bwd Pkts/b Avg     int64  \n",
            " 63  Bwd Blk Rate Avg   int64  \n",
            " 64  Subflow Fwd Pkts   int64  \n",
            " 65  Subflow Fwd Byts   int64  \n",
            " 66  Subflow Bwd Pkts   int64  \n",
            " 67  Subflow Bwd Byts   int64  \n",
            " 68  Init Fwd Win Byts  int64  \n",
            " 69  Init Bwd Win Byts  int64  \n",
            " 70  Fwd Act Data Pkts  int64  \n",
            " 71  Fwd Seg Size Min   int64  \n",
            " 72  Active Mean        float64\n",
            " 73  Active Std         float64\n",
            " 74  Active Max         float64\n",
            " 75  Active Min         float64\n",
            " 76  Idle Mean          float64\n",
            " 77  Idle Std           float64\n",
            " 78  Idle Max           float64\n",
            " 79  Idle Min           float64\n",
            " 80  Label              object \n",
            "dtypes: float64(37), int64(42), object(2)\n",
            "memory usage: 3.7+ GB\n"
          ]
        }
      ],
      "source": [
        "normal_df.info()"
      ]
    },
    {
      "cell_type": "code",
      "execution_count": null,
      "metadata": {},
      "outputs": [
        {
          "data": {
            "text/plain": [
              "Dst Port         0\n",
              "Protocol         0\n",
              "Flow Duration    0\n",
              "Tot Fwd Pkts     0\n",
              "Tot Bwd Pkts     0\n",
              "                ..\n",
              "Idle Mean        0\n",
              "Idle Std         0\n",
              "Idle Max         0\n",
              "Idle Min         0\n",
              "Label            0\n",
              "Length: 79, dtype: int64"
            ]
          },
          "metadata": {},
          "output_type": "display_data"
        }
      ],
      "source": [
        "normal_df.isna().sum()"
      ]
    },
    {
      "attachments": {},
      "cell_type": "markdown",
      "metadata": {},
      "source": [
        "### **Explore Abnormal Data**"
      ]
    },
    {
      "cell_type": "code",
      "execution_count": 20,
      "metadata": {},
      "outputs": [],
      "source": [
        "abnormal_df = abnormal_df[abnormal_df['Label'] != 'Label']\n"
      ]
    },
    {
      "cell_type": "code",
      "execution_count": 21,
      "metadata": {},
      "outputs": [
        {
          "data": {
            "text/plain": [
              "DDOS attack-HOIC            686012\n",
              "DoS attacks-Hulk            461912\n",
              "Bot                         286191\n",
              "FTP-BruteForce              193360\n",
              "SSH-Bruteforce              187589\n",
              "Infilteration               161934\n",
              "DoS attacks-SlowHTTPTest    139890\n",
              "DoS attacks-GoldenEye        41508\n",
              "DoS attacks-Slowloris        10990\n",
              "DDOS attack-LOIC-UDP          1730\n",
              "Brute Force -Web               611\n",
              "Brute Force -XSS               230\n",
              "SQL Injection                   87\n",
              "Name: Label, dtype: int64"
            ]
          },
          "execution_count": 21,
          "metadata": {},
          "output_type": "execute_result"
        }
      ],
      "source": [
        "abnormal_df.Label.value_counts()"
      ]
    },
    {
      "cell_type": "code",
      "execution_count": 25,
      "metadata": {},
      "outputs": [
        {
          "data": {
            "text/plain": [
              "Index(['Unnamed: 0', 'Dst Port', 'Protocol', 'Timestamp', 'Flow Duration',\n",
              "       'Tot Fwd Pkts', 'Tot Bwd Pkts', 'TotLen Fwd Pkts', 'TotLen Bwd Pkts',\n",
              "       'Fwd Pkt Len Max', 'Fwd Pkt Len Min', 'Fwd Pkt Len Mean',\n",
              "       'Fwd Pkt Len Std', 'Bwd Pkt Len Max', 'Bwd Pkt Len Min',\n",
              "       'Bwd Pkt Len Mean', 'Bwd Pkt Len Std', 'Flow Byts/s', 'Flow Pkts/s',\n",
              "       'Flow IAT Mean', 'Flow IAT Std', 'Flow IAT Max', 'Flow IAT Min',\n",
              "       'Fwd IAT Tot', 'Fwd IAT Mean', 'Fwd IAT Std', 'Fwd IAT Max',\n",
              "       'Fwd IAT Min', 'Bwd IAT Tot', 'Bwd IAT Mean', 'Bwd IAT Std',\n",
              "       'Bwd IAT Max', 'Bwd IAT Min', 'Fwd PSH Flags', 'Bwd PSH Flags',\n",
              "       'Fwd URG Flags', 'Bwd URG Flags', 'Fwd Header Len', 'Bwd Header Len',\n",
              "       'Fwd Pkts/s', 'Bwd Pkts/s', 'Pkt Len Min', 'Pkt Len Max',\n",
              "       'Pkt Len Mean', 'Pkt Len Std', 'Pkt Len Var', 'FIN Flag Cnt',\n",
              "       'SYN Flag Cnt', 'RST Flag Cnt', 'PSH Flag Cnt', 'ACK Flag Cnt',\n",
              "       'URG Flag Cnt', 'CWE Flag Count', 'ECE Flag Cnt', 'Down/Up Ratio',\n",
              "       'Pkt Size Avg', 'Fwd Seg Size Avg', 'Bwd Seg Size Avg',\n",
              "       'Fwd Byts/b Avg', 'Fwd Pkts/b Avg', 'Fwd Blk Rate Avg',\n",
              "       'Bwd Byts/b Avg', 'Bwd Pkts/b Avg', 'Bwd Blk Rate Avg',\n",
              "       'Subflow Fwd Pkts', 'Subflow Fwd Byts', 'Subflow Bwd Pkts',\n",
              "       'Subflow Bwd Byts', 'Init Fwd Win Byts', 'Init Bwd Win Byts',\n",
              "       'Fwd Act Data Pkts', 'Fwd Seg Size Min', 'Active Mean', 'Active Std',\n",
              "       'Active Max', 'Active Min', 'Idle Mean', 'Idle Std', 'Idle Max',\n",
              "       'Idle Min', 'Label'],\n",
              "      dtype='object')"
            ]
          },
          "execution_count": 25,
          "metadata": {},
          "output_type": "execute_result"
        }
      ],
      "source": [
        "\n",
        "abnormal_df.columns"
      ]
    },
    {
      "cell_type": "code",
      "execution_count": 26,
      "metadata": {},
      "outputs": [
        {
          "name": "stdout",
          "output_type": "stream",
          "text": [
            "<class 'pandas.core.frame.DataFrame'>\n",
            "Int64Index: 2172044 entries, 0 to 2172102\n",
            "Data columns (total 81 columns):\n",
            " #   Column             Dtype \n",
            "---  ------             ----- \n",
            " 0   Unnamed: 0         int64 \n",
            " 1   Dst Port           object\n",
            " 2   Protocol           object\n",
            " 3   Timestamp          object\n",
            " 4   Flow Duration      object\n",
            " 5   Tot Fwd Pkts       object\n",
            " 6   Tot Bwd Pkts       object\n",
            " 7   TotLen Fwd Pkts    object\n",
            " 8   TotLen Bwd Pkts    object\n",
            " 9   Fwd Pkt Len Max    object\n",
            " 10  Fwd Pkt Len Min    object\n",
            " 11  Fwd Pkt Len Mean   object\n",
            " 12  Fwd Pkt Len Std    object\n",
            " 13  Bwd Pkt Len Max    object\n",
            " 14  Bwd Pkt Len Min    object\n",
            " 15  Bwd Pkt Len Mean   object\n",
            " 16  Bwd Pkt Len Std    object\n",
            " 17  Flow Byts/s        object\n",
            " 18  Flow Pkts/s        object\n",
            " 19  Flow IAT Mean      object\n",
            " 20  Flow IAT Std       object\n",
            " 21  Flow IAT Max       object\n",
            " 22  Flow IAT Min       object\n",
            " 23  Fwd IAT Tot        object\n",
            " 24  Fwd IAT Mean       object\n",
            " 25  Fwd IAT Std        object\n",
            " 26  Fwd IAT Max        object\n",
            " 27  Fwd IAT Min        object\n",
            " 28  Bwd IAT Tot        object\n",
            " 29  Bwd IAT Mean       object\n",
            " 30  Bwd IAT Std        object\n",
            " 31  Bwd IAT Max        object\n",
            " 32  Bwd IAT Min        object\n",
            " 33  Fwd PSH Flags      object\n",
            " 34  Bwd PSH Flags      object\n",
            " 35  Fwd URG Flags      object\n",
            " 36  Bwd URG Flags      object\n",
            " 37  Fwd Header Len     object\n",
            " 38  Bwd Header Len     object\n",
            " 39  Fwd Pkts/s         object\n",
            " 40  Bwd Pkts/s         object\n",
            " 41  Pkt Len Min        object\n",
            " 42  Pkt Len Max        object\n",
            " 43  Pkt Len Mean       object\n",
            " 44  Pkt Len Std        object\n",
            " 45  Pkt Len Var        object\n",
            " 46  FIN Flag Cnt       object\n",
            " 47  SYN Flag Cnt       object\n",
            " 48  RST Flag Cnt       object\n",
            " 49  PSH Flag Cnt       object\n",
            " 50  ACK Flag Cnt       object\n",
            " 51  URG Flag Cnt       object\n",
            " 52  CWE Flag Count     object\n",
            " 53  ECE Flag Cnt       object\n",
            " 54  Down/Up Ratio      object\n",
            " 55  Pkt Size Avg       object\n",
            " 56  Fwd Seg Size Avg   object\n",
            " 57  Bwd Seg Size Avg   object\n",
            " 58  Fwd Byts/b Avg     object\n",
            " 59  Fwd Pkts/b Avg     object\n",
            " 60  Fwd Blk Rate Avg   object\n",
            " 61  Bwd Byts/b Avg     object\n",
            " 62  Bwd Pkts/b Avg     object\n",
            " 63  Bwd Blk Rate Avg   object\n",
            " 64  Subflow Fwd Pkts   object\n",
            " 65  Subflow Fwd Byts   object\n",
            " 66  Subflow Bwd Pkts   object\n",
            " 67  Subflow Bwd Byts   object\n",
            " 68  Init Fwd Win Byts  object\n",
            " 69  Init Bwd Win Byts  object\n",
            " 70  Fwd Act Data Pkts  object\n",
            " 71  Fwd Seg Size Min   object\n",
            " 72  Active Mean        object\n",
            " 73  Active Std         object\n",
            " 74  Active Max         object\n",
            " 75  Active Min         object\n",
            " 76  Idle Mean          object\n",
            " 77  Idle Std           object\n",
            " 78  Idle Max           object\n",
            " 79  Idle Min           object\n",
            " 80  Label              object\n",
            "dtypes: int64(1), object(80)\n",
            "memory usage: 1.3+ GB\n"
          ]
        }
      ],
      "source": [
        "abnormal_df.info()"
      ]
    },
    {
      "cell_type": "code",
      "execution_count": null,
      "metadata": {},
      "outputs": [
        {
          "data": {
            "text/plain": [
              "Dst Port         0\n",
              "Protocol         0\n",
              "Flow Duration    0\n",
              "Tot Fwd Pkts     0\n",
              "Tot Bwd Pkts     0\n",
              "                ..\n",
              "Idle Mean        0\n",
              "Idle Std         0\n",
              "Idle Max         0\n",
              "Idle Min         0\n",
              "Label            0\n",
              "Length: 79, dtype: int64"
            ]
          },
          "metadata": {},
          "output_type": "display_data"
        }
      ],
      "source": [
        "abnormal_df.isna().sum()"
      ]
    },
    {
      "attachments": {},
      "cell_type": "markdown",
      "metadata": {},
      "source": [
        "# **Prepare Data**"
      ]
    },
    {
      "cell_type": "code",
      "execution_count": 28,
      "metadata": {},
      "outputs": [],
      "source": [
        "abnormal_df.drop(columns=['Unnamed: 0', 'Timestamp'], inplace=True)\n",
        "normal_df.drop(columns=['Unnamed: 0', 'Timestamp'], inplace=True)"
      ]
    },
    {
      "cell_type": "code",
      "execution_count": 34,
      "metadata": {},
      "outputs": [],
      "source": [
        "for col in abnormal_df.columns[:-1]:  # We exclude the last column using [:-1]\n",
        "    abnormal_df[col] = pd.to_numeric(abnormal_df[col], errors='coerce')\n"
      ]
    },
    {
      "cell_type": "code",
      "execution_count": 35,
      "metadata": {},
      "outputs": [
        {
          "name": "stdout",
          "output_type": "stream",
          "text": [
            "<class 'pandas.core.frame.DataFrame'>\n",
            "Int64Index: 2172044 entries, 0 to 2172102\n",
            "Data columns (total 79 columns):\n",
            " #   Column             Dtype  \n",
            "---  ------             -----  \n",
            " 0   Dst Port           int64  \n",
            " 1   Protocol           int64  \n",
            " 2   Flow Duration      int64  \n",
            " 3   Tot Fwd Pkts       int64  \n",
            " 4   Tot Bwd Pkts       int64  \n",
            " 5   TotLen Fwd Pkts    int64  \n",
            " 6   TotLen Bwd Pkts    float64\n",
            " 7   Fwd Pkt Len Max    int64  \n",
            " 8   Fwd Pkt Len Min    int64  \n",
            " 9   Fwd Pkt Len Mean   float64\n",
            " 10  Fwd Pkt Len Std    float64\n",
            " 11  Bwd Pkt Len Max    int64  \n",
            " 12  Bwd Pkt Len Min    int64  \n",
            " 13  Bwd Pkt Len Mean   float64\n",
            " 14  Bwd Pkt Len Std    float64\n",
            " 15  Flow Byts/s        float64\n",
            " 16  Flow Pkts/s        float64\n",
            " 17  Flow IAT Mean      float64\n",
            " 18  Flow IAT Std       float64\n",
            " 19  Flow IAT Max       float64\n",
            " 20  Flow IAT Min       float64\n",
            " 21  Fwd IAT Tot        float64\n",
            " 22  Fwd IAT Mean       float64\n",
            " 23  Fwd IAT Std        float64\n",
            " 24  Fwd IAT Max        float64\n",
            " 25  Fwd IAT Min        float64\n",
            " 26  Bwd IAT Tot        float64\n",
            " 27  Bwd IAT Mean       float64\n",
            " 28  Bwd IAT Std        float64\n",
            " 29  Bwd IAT Max        float64\n",
            " 30  Bwd IAT Min        float64\n",
            " 31  Fwd PSH Flags      int64  \n",
            " 32  Bwd PSH Flags      int64  \n",
            " 33  Fwd URG Flags      int64  \n",
            " 34  Bwd URG Flags      int64  \n",
            " 35  Fwd Header Len     int64  \n",
            " 36  Bwd Header Len     int64  \n",
            " 37  Fwd Pkts/s         float64\n",
            " 38  Bwd Pkts/s         float64\n",
            " 39  Pkt Len Min        int64  \n",
            " 40  Pkt Len Max        int64  \n",
            " 41  Pkt Len Mean       float64\n",
            " 42  Pkt Len Std        float64\n",
            " 43  Pkt Len Var        float64\n",
            " 44  FIN Flag Cnt       int64  \n",
            " 45  SYN Flag Cnt       int64  \n",
            " 46  RST Flag Cnt       int64  \n",
            " 47  PSH Flag Cnt       int64  \n",
            " 48  ACK Flag Cnt       int64  \n",
            " 49  URG Flag Cnt       int64  \n",
            " 50  CWE Flag Count     int64  \n",
            " 51  ECE Flag Cnt       int64  \n",
            " 52  Down/Up Ratio      int64  \n",
            " 53  Pkt Size Avg       float64\n",
            " 54  Fwd Seg Size Avg   float64\n",
            " 55  Bwd Seg Size Avg   float64\n",
            " 56  Fwd Byts/b Avg     int64  \n",
            " 57  Fwd Pkts/b Avg     int64  \n",
            " 58  Fwd Blk Rate Avg   int64  \n",
            " 59  Bwd Byts/b Avg     int64  \n",
            " 60  Bwd Pkts/b Avg     int64  \n",
            " 61  Bwd Blk Rate Avg   int64  \n",
            " 62  Subflow Fwd Pkts   int64  \n",
            " 63  Subflow Fwd Byts   int64  \n",
            " 64  Subflow Bwd Pkts   int64  \n",
            " 65  Subflow Bwd Byts   int64  \n",
            " 66  Init Fwd Win Byts  int64  \n",
            " 67  Init Bwd Win Byts  int64  \n",
            " 68  Fwd Act Data Pkts  int64  \n",
            " 69  Fwd Seg Size Min   int64  \n",
            " 70  Active Mean        float64\n",
            " 71  Active Std         float64\n",
            " 72  Active Max         float64\n",
            " 73  Active Min         float64\n",
            " 74  Idle Mean          float64\n",
            " 75  Idle Std           float64\n",
            " 76  Idle Max           float64\n",
            " 77  Idle Min           float64\n",
            " 78  Label              object \n",
            "dtypes: float64(37), int64(41), object(1)\n",
            "memory usage: 1.3+ GB\n"
          ]
        }
      ],
      "source": [
        "abnormal_df.info()"
      ]
    },
    {
      "cell_type": "code",
      "execution_count": 36,
      "metadata": {},
      "outputs": [],
      "source": [
        "# Concatenate abnormal_df and normal_df\n",
        "df = pd.concat([abnormal_df, normal_df], ignore_index=True)"
      ]
    },
    {
      "attachments": {},
      "cell_type": "markdown",
      "metadata": {},
      "source": [
        "### **Plot Distribution of Labels in the Data**"
      ]
    },
    {
      "cell_type": "code",
      "execution_count": 59,
      "metadata": {},
      "outputs": [
        {
          "data": {
            "image/png": "[encoded data removed]",
            "text/plain": [
              "<Figure size 1800x600 with 1 Axes>"
            ]
          },
          "metadata": {},
          "output_type": "display_data"
        }
      ],
      "source": [
        "\n",
        "label_counts = df['Label'].value_counts() # Calculate the frequency of each label\n",
        "plt.figure(figsize=(18,6))\n",
        "patches, _ = plt.pie(label_counts, startangle=140)\n",
        "centre_circle = plt.Circle((0,0),0.50,fc='white')\n",
        "fig = plt.gcf()\n",
        "fig.gca().add_artist(centre_circle)\n",
        "plt.title('Distribution of Labels in the DataFrame')\n",
        "plt.axis('equal')\n",
        "labels = ['{0} ------ {1:1.5f} %'.format(i,j) for i,j in zip(label_counts.index, label_counts.values*100/label_counts.values.sum())]\n",
        "plt.legend(patches, labels, title='Labels', loc='upper right')\n",
        "plt.show()"
      ]
    },
    {
      "cell_type": "code",
      "execution_count": 60,
      "metadata": {},
      "outputs": [],
      "source": [
        "df.to_csv('cleaned_data.csv')"
      ]
    },
    {
      "cell_type": "code",
      "execution_count": null,
      "metadata": {},
      "outputs": [],
      "source": [
        "labels = [DDOS attack-HOIC , DoS attacks-Hulk , Bot , FTP-BruteForce , SSH-Bruteforce , Infilteration, DoS attacks-SlowHTTPT, DoS attacks-GoldenEye, DoS attacks-Slowloris, DDOS attack-LOIC-UDP , Brute Force -Web, Brute Force -XSS , SQL Injection]"
      ]
    }
  ],
  "metadata": {
    "colab": {
      "provenance": []
    },
    "kernelspec": {
      "display_name": "Python 3",
      "name": "python3"
    },
    "language_info": {
      "codemirror_mode": {
        "name": "ipython",
        "version": 3
      },
      "file_extension": ".py",
      "mimetype": "text/x-python",
      "name": "python",
      "nbconvert_exporter": "python",
      "pygments_lexer": "ipython3",
      "version": "3.9.12"
    }
  },
  "nbformat": 4,
  "nbformat_minor": 0
}
